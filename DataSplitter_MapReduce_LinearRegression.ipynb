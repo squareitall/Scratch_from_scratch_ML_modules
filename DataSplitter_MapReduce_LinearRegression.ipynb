{
  "nbformat": 4,
  "nbformat_minor": 0,
  "metadata": {
    "colab": {
      "name": "DataSplitter_MapReduce_LinearRegression.ipynb",
      "provenance": []
    },
    "kernelspec": {
      "name": "python3",
      "display_name": "Python 3"
    },
    "language_info": {
      "name": "python"
    }
  },
  "cells": [
    {
      "cell_type": "code",
      "execution_count": 1,
      "metadata": {
        "id": "Cr24HWSsDFzJ"
      },
      "outputs": [],
      "source": [
        "import pandas as pd\n",
        "import numpy as np"
      ]
    },
    {
      "cell_type": "code",
      "source": [
        "from sklearn.datasets import load_boston\n",
        "X,y=load_boston(return_X_y=True)#,as_frame=True)\n"
      ],
      "metadata": {
        "id": "w7QBZCu-DHzq"
      },
      "execution_count": null,
      "outputs": []
    },
    {
      "cell_type": "code",
      "source": [
        "# np.array_split(X,5)\n",
        "arr_idx=np.arange(X.shape[0])\n",
        "shuffled_idx=np.random.choice(arr_idx,size=len(arr_idx),replace=False)\n",
        "# X[shuffled_idx,:].shape==X.shape\n",
        "split_shuffled_idx=np.array_split(shuffled_idx,5)\n",
        "# X[split_shuffled_idx[0],:]"
      ],
      "metadata": {
        "colab": {
          "base_uri": "https://localhost:8080/"
        },
        "id": "Pdfr5tQ-HC4f",
        "outputId": "fc519394-c895-4ddd-82df-0452aae587ad"
      },
      "execution_count": 33,
      "outputs": [
        {
          "output_type": "execute_result",
          "data": {
            "text/plain": [
              "(102, 13)"
            ]
          },
          "metadata": {},
          "execution_count": 33
        }
      ]
    },
    {
      "cell_type": "code",
      "source": [
        "#Splitter Possibly mananged by the master node/leader_node\n",
        "\n",
        "#Each function is a computation that will require Conputation cluster\n",
        "def splitter(d1,d2):\n",
        "  if len(d2.shape)==1:\n",
        "    d2=d2.reshape(-1,1)\n",
        "  assert(d1.shape[0]==d2.shape[0])\n",
        "  arr_idx=np.arange(d1.shape[0])\n",
        "  shuffled_idx=np.random.choice(arr_idx,size=len(arr_idx),replace=False)\n",
        "  split_shuffled_idx=np.array_split(shuffled_idx,5)\n",
        "  data_sets=[(d1[i,:],d2[i,:]) for i in split_shuffled_idx]\n",
        "  return data_sets\n"
      ],
      "metadata": {
        "id": "C-OKiuXvGIXK"
      },
      "execution_count": 41,
      "outputs": []
    },
    {
      "cell_type": "code",
      "source": [
        "#Mapper functions\n",
        "def cov_xx_computer(a,b):\n",
        "  return np.transpose(a)@a\n",
        "def cov_xy_computer(a,b):\n",
        "  return np.transpose(a)@b\n",
        "\n",
        "def cov_computer(d):\n",
        "  a=d[0]\n",
        "  b=d[1]\n",
        "  return (cov_xx_computer(a,b),cov_xy_computer(a,b))\n",
        "\n",
        "\n",
        "# cov_computer(data_sets[0])\n",
        "\n",
        "#Reducer Function\n",
        "def sum_reducer(a,b):\n",
        "  temp_xx=a[0]+b[0]\n",
        "  temp_xy=a[1]+b[1]\n",
        "  return [temp_xx,temp_xy]\n",
        "  \n",
        "\n",
        "def mapper_solver(dt):\n",
        "  temp_xx=dt[0]\n",
        "  temp_xy=dt[1]\n",
        "  if (len(temp_xy.shape)==1):\n",
        "    temp_xy=temp_xy.reshape(-1,1)\n",
        "  final_coeff=np.linalg.solve(temp_xx,temp_xy)\n",
        "  return final_coeff"
      ],
      "metadata": {
        "id": "mDi7u2EdFE-c"
      },
      "execution_count": 106,
      "outputs": []
    },
    {
      "cell_type": "code",
      "source": [
        "from functools import reduce\n",
        "\n",
        "data_sets=splitter(X,y)\n",
        "lt_mapped_data=list(map(cov_computer,data_sets))\n",
        "\n",
        "final_cov_data=[reduce(sum_reducer,lt_mapped_data)]\n",
        "#We obtain sum of covariance matrices of dtat distributed along different clusters\n",
        "#We need to pass this tuple object inside list so that the map function can work accordingly[(xx,xy)]\n",
        "\n",
        "\n",
        "#then we have an aggregated cov_xx and cov_xy on which w eneed to apply/map one linalg function\n",
        "tuple(map(mapper_solver,final_cov_data))\n",
        "\n"
      ],
      "metadata": {
        "colab": {
          "base_uri": "https://localhost:8080/"
        },
        "id": "mwSj6bi8Q9n_",
        "outputId": "850b3789-0ce1-49f3-b3d5-dd0346d7601b"
      },
      "execution_count": 112,
      "outputs": [
        {
          "output_type": "execute_result",
          "data": {
            "text/plain": [
              "(array([[-9.28965170e-02],\n",
              "        [ 4.87149552e-02],\n",
              "        [-4.05997958e-03],\n",
              "        [ 2.85399882e+00],\n",
              "        [-2.86843637e+00],\n",
              "        [ 5.92814778e+00],\n",
              "        [-7.26933458e-03],\n",
              "        [-9.68514157e-01],\n",
              "        [ 1.71151128e-01],\n",
              "        [-9.39621540e-03],\n",
              "        [-3.92190926e-01],\n",
              "        [ 1.49056102e-02],\n",
              "        [-4.16304471e-01]]),)"
            ]
          },
          "metadata": {},
          "execution_count": 112
        }
      ]
    },
    {
      "cell_type": "markdown",
      "source": [
        "# Rough WORK"
      ],
      "metadata": {
        "id": "f8YIMF3oQphD"
      }
    },
    {
      "cell_type": "code",
      "source": [
        "y=y.reshape(-1,1)\n",
        "xx=np.transpose(X)@X\n",
        "xy=np.transpose(X)@y\n",
        "\n",
        "np.linalg.solve(xx,xy)"
      ],
      "metadata": {
        "colab": {
          "base_uri": "https://localhost:8080/"
        },
        "id": "l7Q9LoxlDg1v",
        "outputId": "21176d56-47a8-4e8a-dc5d-7483ca1c05ce"
      },
      "execution_count": 21,
      "outputs": [
        {
          "output_type": "execute_result",
          "data": {
            "text/plain": [
              "array([[-9.28965170e-02],\n",
              "       [ 4.87149552e-02],\n",
              "       [-4.05997958e-03],\n",
              "       [ 2.85399882e+00],\n",
              "       [-2.86843637e+00],\n",
              "       [ 5.92814778e+00],\n",
              "       [-7.26933458e-03],\n",
              "       [-9.68514157e-01],\n",
              "       [ 1.71151128e-01],\n",
              "       [-9.39621540e-03],\n",
              "       [-3.92190926e-01],\n",
              "       [ 1.49056102e-02],\n",
              "       [-4.16304471e-01]])"
            ]
          },
          "metadata": {},
          "execution_count": 21
        }
      ]
    },
    {
      "cell_type": "code",
      "source": [
        "list((1,2)),'\\t',[(1,2)]"
      ],
      "metadata": {
        "colab": {
          "base_uri": "https://localhost:8080/"
        },
        "id": "_-bLKtDxDioG",
        "outputId": "16fff776-2818-446a-eb14-a626c8a7acf9"
      },
      "execution_count": 115,
      "outputs": [
        {
          "output_type": "execute_result",
          "data": {
            "text/plain": [
              "([1, 2], '\\t', [(1, 2)])"
            ]
          },
          "metadata": {},
          "execution_count": 115
        }
      ]
    },
    {
      "cell_type": "code",
      "source": [
        ""
      ],
      "metadata": {
        "id": "JAPKEwOeXpS7"
      },
      "execution_count": null,
      "outputs": []
    }
  ]
}